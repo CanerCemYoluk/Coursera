{
 "cells": [
  {
   "cell_type": "markdown",
   "metadata": {
    "deletable": false,
    "editable": false,
    "nbgrader": {
     "checksum": "48770f8b5f5d3062d3badd51fcafc401",
     "grade": false,
     "grade_id": "cell-a6c4f74309fc2379",
     "locked": true,
     "schema_version": 1,
     "solution": false
    }
   },
   "source": [
    "# Assignment 4\n",
    "## Description\n",
    "In this assignment you must read in a file of metropolitan regions and associated sports teams from [assets/wikipedia_data.html](assets/wikipedia_data.html) and answer some questions about each metropolitan region. Each of these regions may have one or more teams from the \"Big 4\": NFL (football, in [assets/nfl.csv](assets/nfl.csv)), MLB (baseball, in [assets/mlb.csv](assets/mlb.csv)), NBA (basketball, in [assets/nba.csv](assets/nba.csv) or NHL (hockey, in [assets/nhl.csv](assets/nhl.csv)). Please keep in mind that all questions are from the perspective of the metropolitan region, and that this file is the \"source of authority\" for the location of a given sports team. Thus teams which are commonly known by a different area (e.g. \"Oakland Raiders\") need to be mapped into the metropolitan region given (e.g. San Francisco Bay Area). This will require some human data understanding outside of the data you've been given (e.g. you will have to hand-code some names, and might need to google to find out where teams are)!\n",
    "\n",
    "For each sport I would like you to answer the question: **what is the win/loss ratio's correlation with the population of the city it is in?** Win/Loss ratio refers to the number of wins over the number of wins plus the number of losses. Remember that to calculate the correlation with [`pearsonr`](https://docs.scipy.org/doc/scipy/reference/generated/scipy.stats.pearsonr.html), so you are going to send in two ordered lists of values, the populations from the wikipedia_data.html file and the win/loss ratio for a given sport in the same order. Average the win/loss ratios for those cities which have multiple teams of a single sport. Each sport is worth an equal amount in this assignment (20%\\*4=80%) of the grade for this assignment. You should only use data **from year 2018** for your analysis -- this is important!\n",
    "\n",
    "## Notes\n",
    "\n",
    "1. Do not include data about the MLS or CFL in any of the work you are doing, we're only interested in the Big 4 in this assignment.\n",
    "2. I highly suggest that you first tackle the four correlation questions in order, as they are all similar and worth the majority of grades for this assignment. This is by design!\n",
    "3. It's fair game to talk with peers about high level strategy as well as the relationship between metropolitan areas and sports teams. However, do not post code solving aspects of the assignment (including such as dictionaries mapping areas to teams, or regexes which will clean up names).\n",
    "4. There may be more teams than the assert statements test, remember to collapse multiple teams in one city into a single value!"
   ]
  },
  {
   "cell_type": "markdown",
   "metadata": {
    "deletable": false,
    "editable": false,
    "nbgrader": {
     "checksum": "369ff9ecf0ee04640574205cbc697f94",
     "grade": false,
     "grade_id": "cell-712b2b5da63d4505",
     "locked": true,
     "schema_version": 1,
     "solution": false
    }
   },
   "source": [
    "## Question 1\n",
    "For this question, calculate the win/loss ratio's correlation with the population of the city it is in for the **NHL** using **2018** data."
   ]
  },
  {
   "cell_type": "code",
   "execution_count": 16,
   "metadata": {},
   "outputs": [],
   "source": [
    "import pandas as pd\n",
    "import numpy as np\n",
    "import scipy.stats as stats\n",
    "import re\n",
    "\n",
    "nhl_df=pd.read_csv(\"assets/nhl.csv\")\n",
    "cities=pd.read_html(\"assets/wikipedia_data.html\")[1]"
   ]
  },
  {
   "cell_type": "code",
   "execution_count": 17,
   "metadata": {
    "deletable": false,
    "nbgrader": {
     "checksum": "1cac4803b02502929f5b1612d48db2b5",
     "grade": false,
     "grade_id": "cell-69b16e4386e58030",
     "locked": false,
     "schema_version": 1,
     "solution": true
    }
   },
   "outputs": [],
   "source": [
    "import pandas as pd\n",
    "import numpy as np\n",
    "import scipy.stats as stats\n",
    "import re\n",
    "\n",
    "nhl_df=pd.read_csv(\"assets/nhl.csv\")\n",
    "cities=pd.read_html(\"assets/wikipedia_data.html\")[1]\n",
    "cities=cities.iloc[:-1,[0,3,5,6,7,8]]\n",
    "\n",
    "def nhl_correlation():\n",
    "    df.rename(columns={\"Population (2016 est.)[8]\" : \"Population\"}, inplace=True)\n",
    "\n",
    "    df['NFL'] = df['NFL'].str.replace(r\"\\[.*\\]\" , \"\")\n",
    "    df['MLB'] = df['MLB'].str.replace(r\"\\[.*\\]\" , \"\")\n",
    "    df['NBA'] = df['NBA'].str.replace(r\"\\[.*\\]\" , \"\")\n",
    "    df['NHL'] = df['NHL'].str.replace(r\"\\[.*\\]\" , \"\")\n",
    "\n",
    "\n",
    "    Pop = df[['Metropolitan area','Population','NHL']].copy()\n",
    "    Pop['NHL'].replace('—',np.nan,inplace=True)\n",
    "    Pop['NHL'].replace('',np.nan,inplace=True)\n",
    "    Pop.dropna(subset=['NHL'],inplace=True)\n",
    "    Pop['NHL'] = Pop['NHL'].str.replace('[\\w.]*\\ ',\"\")\n",
    "    Pop['NHL'] = Pop['NHL'].replace(['RangersIslandersDevils'],'Devils')\n",
    "    Pop.rename(columns={\"NHL\" : \"team\"}, inplace=True)\n",
    "\n",
    "    NHL = pd.read_csv('assets/nhl.csv')\n",
    "    NHL['team'] = NHL['team'].str.replace('[*]' , \"\")\n",
    "    cols = ['team','W','L','year']\n",
    "    NHL = NHL[cols]\n",
    "    NHL = NHL[NHL['year'] == 2018]\n",
    "    NHL.drop([0,9,18,26], inplace=True)\n",
    "    NHL['W/L%'] = (NHL['W'].astype(float) / ((NHL['W'].astype(float) + NHL['L'].astype(float))))\n",
    "    NHL['team'] = NHL['team'].str.replace('[\\w.]*\\ ' , \"\")\n",
    "    #Adding all new york teams together and finding the average win/loss for all of them combined\n",
    "    Wins = int(NHL[NHL['team'] == 'Rangers']['W'].values[0]) + int(NHL[NHL['team'] == 'Islanders']['W'].values[0]) + int(NHL[NHL['team'] == 'Devils']['W'].values[0])\n",
    "    Loss = int(NHL[NHL['team'] == 'Rangers']['L'].values[0]) + int(NHL[NHL['team'] == 'Islanders']['L'].values[0]) + int(NHL[NHL['team'] == 'Devils']['L'].values[0])\n",
    "    RangersIslandersDevils = {'team' : 'RangersIslandersDevils' ,\n",
    "                       'W' : Wins,\n",
    "                          'L' :Loss ,\n",
    "                          'year' : '2018',\n",
    "                          'W/L%' : float(Wins) / (float(Wins) + float(Loss))}\n",
    "\n",
    "    NHL = NHL.append(RangersIslandersDevils,ignore_index=True)\n",
    "    NHL.drop([14,15,12], inplace=True)\n",
    "\n",
    "    Wins = int(NHL[NHL['team'] == 'Kings']['W'].values[0]) + int(NHL[NHL['team'] == 'Ducks']['W'].values[0])\n",
    "    Loss = int(NHL[NHL['team'] == 'Kings']['L'].values[0]) + int(NHL[NHL['team'] == 'Ducks']['L'].values[0])\n",
    "\n",
    "    KingsDucks = {'team' : 'KingsDucks' ,\n",
    "                       'W' : Wins,\n",
    "                          'L' :Loss ,\n",
    "                          'year' : '2018',\n",
    "                          'W/L%' : float(Wins) / (float(Wins) + float(Loss))}\n",
    "\n",
    "    NHL = NHL.append(KingsDucks,ignore_index=True)\n",
    "    NHL.drop([21,23], inplace=True)\n",
    "    NHL.reset_index(inplace=True)\n",
    "    del NHL['index']\n",
    "\n",
    "    merge = pd.merge(NHL,Pop, how='outer' , on='team')\n",
    "    #X = NHL[NHL['team'] == 'Rangers']['W'].values[0]\n",
    "    X = merge[merge['team'] == 'Devils']['Metropolitan area'].values[0]\n",
    "    Y = merge[merge['team'] == 'Devils']['Population'].values[0]\n",
    "    #cities['NHL'] = cities['NHL'].replace(['RangersIslandersDevils'],'Devils')\n",
    "    merge['Metropolitan area'] = merge['Metropolitan area'].replace(np.nan,X)\n",
    "    merge['Population'] = merge['Population'].replace(np.nan,Y)\n",
    "    merge.drop([28], inplace=True)\n",
    "\n",
    "    merge = merge.astype({'W' : int,\n",
    "                      'L' : int,\n",
    "                      'Population':float,\n",
    "                      'W/L%' : float})\n",
    "\n",
    "    merge=merge.groupby('Metropolitan area').agg({'W/L%': np.nanmean, 'Population': np.nanmean})\n",
    "\n",
    "\n",
    "    population_by_region = merge['Population']\n",
    "    win_loss_by_region = merge['W/L%']\n",
    "    \n",
    "\n",
    "    assert len(population_by_region) == len(win_loss_by_region), \"Q1: Your lists must be the same length\"\n",
    "    assert len(population_by_region) == 28, \"Q1: There should be 28 teams being analysed for NHL\"\n",
    "    \n",
    "    return stats.pearsonr(population_by_region, win_loss_by_region)[0]"
   ]
  },
  {
   "cell_type": "code",
   "execution_count": null,
   "metadata": {
    "deletable": false,
    "editable": false,
    "nbgrader": {
     "checksum": "52a581df513c71153e105b93764cda4b",
     "grade": true,
     "grade_id": "cell-ebe0b2dfe1067e63",
     "locked": true,
     "points": 20,
     "schema_version": 1,
     "solution": false
    }
   },
   "outputs": [],
   "source": []
  },
  {
   "cell_type": "markdown",
   "metadata": {
    "deletable": false,
    "editable": false,
    "nbgrader": {
     "checksum": "988912cae4968d81473f46d783e79c16",
     "grade": false,
     "grade_id": "cell-cb964e690298b71d",
     "locked": true,
     "schema_version": 1,
     "solution": false
    }
   },
   "source": [
    "## Question 2\n",
    "For this question, calculate the win/loss ratio's correlation with the population of the city it is in for the **NBA** using **2018** data."
   ]
  },
  {
   "cell_type": "code",
   "execution_count": 18,
   "metadata": {
    "deletable": false,
    "nbgrader": {
     "checksum": "9394222aafc8ccab0a228098ba0d6010",
     "grade": false,
     "grade_id": "cell-5a5f21279e3d3572",
     "locked": false,
     "schema_version": 1,
     "solution": true
    }
   },
   "outputs": [],
   "source": [
    "import pandas as pd\n",
    "import numpy as np\n",
    "import scipy.stats as stats\n",
    "import re\n",
    "\n",
    "nba_df=pd.read_csv(\"assets/nba.csv\")\n",
    "cities=pd.read_html(\"assets/wikipedia_data.html\")[1]\n",
    "cities=cities.iloc[:-1,[0,3,5,6,7,8]]\n",
    "\n",
    "def nba_correlation():\n",
    "    \n",
    "    Pop = df[['Metropolitan area','Population (2016 est.)[8]','NBA']].copy()\n",
    "    Pop['NBA'] = Pop['NBA'].str.replace(r\"\\[.*\\]\" , \"\")\n",
    "    Pop.rename(columns={'Population (2016 est.)[8]' : 'Population'}, inplace=True)\n",
    "    Pop['NBA'].replace('—', np.nan, inplace=True)\n",
    "    Pop['NBA'].replace('',np.nan,inplace=True)\n",
    "    Pop.dropna(subset=['NBA'],inplace=True)\n",
    "    Pop.rename(columns={'NBA' : 'team'}, inplace=True)\n",
    "    Pop['team'].replace('Trail Blazers', 'Blazers', inplace=True)\n",
    "    Pop.reset_index(inplace=True)\n",
    "    del Pop['index']\n",
    "\n",
    "\n",
    "    NBA = pd.read_csv('assets/nba.csv')\n",
    "    NBA = NBA[['team','W','L','W/L%','year']]\n",
    "    NBA = NBA[NBA['year']==2018]\n",
    "    NBA['team'] = NBA['team'].str.replace(r'[\\*]', '')\n",
    "    NBA['team'] = NBA['team'].str.replace(r'\\(\\d*\\)', '')\n",
    "    NBA['team'] = NBA['team'].str.replace(r'[\\xa0]', '')\n",
    "    NBA['team'] = NBA['team'].str.replace('[\\w.]* ', '')\n",
    "\n",
    "    Wins = int(NBA[NBA['team'] == 'Knicks']['W'].values[0]) + int(NBA[NBA['team'] == 'Nets']['W'].values[0])\n",
    "    Loss = int(NBA[NBA['team'] == 'Knicks']['L'].values[0]) + int(NBA[NBA['team'] == 'Nets']['L'].values[0])\n",
    "    WLratio = float(Wins) / (float(Wins) + float(Loss))\n",
    "\n",
    "    KnicksNets = {'team' : 'KnicksNets',\n",
    "              'W' : Wins ,\n",
    "              'L' : Loss,\n",
    "              'W/L%' : WLratio,\n",
    "              'year' : '2018'}\n",
    "\n",
    "    Wins = int(NBA[NBA['team'] == 'Lakers']['W'].values[0]) + int(NBA[NBA['team'] == 'Clippers']['W'].values[0])\n",
    "    Loss = int(NBA[NBA['team'] == 'Lakers']['L'].values[0]) + int(NBA[NBA['team'] == 'Clippers']['L'].values[0])\n",
    "    WLratio = float(Wins) / (float(Wins) + float(Loss))\n",
    "\n",
    "    LakersClippers = {'team' : 'LakersClippers',\n",
    "              'W' : Wins ,\n",
    "              'L' : Loss,\n",
    "              'W/L%' : WLratio,\n",
    "              'year' : '2018'}\n",
    "\n",
    "\n",
    "    NBA = NBA.append(KnicksNets,ignore_index=True)\n",
    "    NBA = NBA.append(LakersClippers,ignore_index=True)\n",
    "    NBA.drop([10,11,24,25], inplace=True)\n",
    "    NBA.reset_index(inplace=True)\n",
    "    del NBA['index']\n",
    "\n",
    "    merge = pd.merge(NBA,Pop, how='outer' , on='team')\n",
    "\n",
    "    merge = merge.astype({'Population':float,\n",
    "                      'W/L%' : float})\n",
    "\n",
    "    merge=merge.groupby('Metropolitan area').agg({'W/L%': np.nanmean, 'Population': np.nanmean})\n",
    "  \n",
    "    \n",
    "    population_by_region = merge['Population'] # pass in metropolitan area population from cities\n",
    "    win_loss_by_region = merge['W/L%'] # pass in win/loss ratio from nba_df in the same order as cities[\"Metropolitan area\"]\n",
    "\n",
    "    assert len(population_by_region) == len(win_loss_by_region), \"Q2: Your lists must be the same length\"\n",
    "    assert len(population_by_region) == 28, \"Q2: There should be 28 teams being analysed for NBA\"\n",
    "\n",
    "    return stats.pearsonr(population_by_region, win_loss_by_region)[0]"
   ]
  },
  {
   "cell_type": "code",
   "execution_count": null,
   "metadata": {
    "deletable": false,
    "editable": false,
    "nbgrader": {
     "checksum": "bbdeb8eb22f525a34c10dc8798324e42",
     "grade": true,
     "grade_id": "cell-e573b2b4a282b470",
     "locked": true,
     "points": 20,
     "schema_version": 1,
     "solution": false
    }
   },
   "outputs": [],
   "source": []
  },
  {
   "cell_type": "markdown",
   "metadata": {
    "deletable": false,
    "editable": false,
    "nbgrader": {
     "checksum": "1a1a5809f675ca033086422007cd73bd",
     "grade": false,
     "grade_id": "cell-96e15e4335df78f4",
     "locked": true,
     "schema_version": 1,
     "solution": false
    }
   },
   "source": [
    "## Question 3\n",
    "For this question, calculate the win/loss ratio's correlation with the population of the city it is in for the **MLB** using **2018** data."
   ]
  },
  {
   "cell_type": "code",
   "execution_count": null,
   "metadata": {
    "deletable": false,
    "nbgrader": {
     "checksum": "27e8c0da6c9fa0dffc10488314335b6c",
     "grade": false,
     "grade_id": "cell-33b00fc3f3467b0c",
     "locked": false,
     "schema_version": 1,
     "solution": true
    }
   },
   "outputs": [],
   "source": [
    "import pandas as pd\n",
    "import numpy as np\n",
    "import scipy.stats as stats\n",
    "import re\n",
    "\n",
    "mlb_df=pd.read_csv(\"assets/mlb.csv\")\n",
    "cities=pd.read_html(\"assets/wikipedia_data.html\")[1]\n",
    "cities=cities.iloc[:-1,[0,3,5,6,7,8]]\n",
    "\n",
    "def mlb_correlation(): \n",
    "    # YOUR CODE HERE\n",
    "    raise NotImplementedError()\n",
    "    \n",
    "    population_by_region = [] # pass in metropolitan area population from cities\n",
    "    win_loss_by_region = [] # pass in win/loss ratio from mlb_df in the same order as cities[\"Metropolitan area\"]\n",
    "\n",
    "    assert len(population_by_region) == len(win_loss_by_region), \"Q3: Your lists must be the same length\"\n",
    "    assert len(population_by_region) == 26, \"Q3: There should be 26 teams being analysed for MLB\"\n",
    "\n",
    "    return stats.pearsonr(population_by_region, win_loss_by_region)"
   ]
  },
  {
   "cell_type": "code",
   "execution_count": null,
   "metadata": {
    "deletable": false,
    "editable": false,
    "nbgrader": {
     "checksum": "cda33b094ba19ccc37a481e0dd29e0bc",
     "grade": true,
     "grade_id": "cell-764d4476f425c5a2",
     "locked": true,
     "points": 20,
     "schema_version": 1,
     "solution": false
    }
   },
   "outputs": [],
   "source": []
  },
  {
   "cell_type": "markdown",
   "metadata": {
    "deletable": false,
    "editable": false,
    "nbgrader": {
     "checksum": "6977a6da9ed6d8b7a0b7e37bbeda709b",
     "grade": false,
     "grade_id": "cell-793df6c04dfb126e",
     "locked": true,
     "schema_version": 1,
     "solution": false
    }
   },
   "source": [
    "## Question 4\n",
    "For this question, calculate the win/loss ratio's correlation with the population of the city it is in for the **NFL** using **2018** data."
   ]
  },
  {
   "cell_type": "code",
   "execution_count": null,
   "metadata": {
    "deletable": false,
    "nbgrader": {
     "checksum": "c4914ad1e119278ec2bd567c52640b66",
     "grade": false,
     "grade_id": "cell-8ccebc209aeec8d9",
     "locked": false,
     "schema_version": 1,
     "solution": true
    }
   },
   "outputs": [],
   "source": [
    "import pandas as pd\n",
    "import numpy as np\n",
    "import scipy.stats as stats\n",
    "import re\n",
    "\n",
    "nfl_df=pd.read_csv(\"assets/nfl.csv\")\n",
    "cities=pd.read_html(\"assets/wikipedia_data.html\")[1]\n",
    "cities=cities.iloc[:-1,[0,3,5,6,7,8]]\n",
    "\n",
    "def nfl_correlation(): \n",
    "    # YOUR CODE HERE\n",
    "    raise NotImplementedError()\n",
    "    \n",
    "    population_by_region = [] # pass in metropolitan area population from cities\n",
    "    win_loss_by_region = [] # pass in win/loss ratio from nfl_df in the same order as cities[\"Metropolitan area\"]\n",
    "\n",
    "    assert len(population_by_region) == len(win_loss_by_region), \"Q4: Your lists must be the same length\"\n",
    "    assert len(population_by_region) == 29, \"Q4: There should be 29 teams being analysed for NFL\"\n",
    "\n",
    "    return stats.pearsonr(population_by_region, win_loss_by_region)"
   ]
  },
  {
   "cell_type": "code",
   "execution_count": null,
   "metadata": {
    "deletable": false,
    "editable": false,
    "nbgrader": {
     "checksum": "e9415d6399aa49e3a1a60813afdefa3b",
     "grade": true,
     "grade_id": "cell-de7b148b9554dbda",
     "locked": true,
     "points": 20,
     "schema_version": 1,
     "solution": false
    }
   },
   "outputs": [],
   "source": []
  },
  {
   "cell_type": "markdown",
   "metadata": {
    "deletable": false,
    "editable": false,
    "nbgrader": {
     "checksum": "b02d5cd3273f561e4ae939bb2a41740c",
     "grade": false,
     "grade_id": "cell-97b49d8639e908c4",
     "locked": true,
     "schema_version": 1,
     "solution": false
    }
   },
   "source": [
    "## Question 5\n",
    "In this question I would like you to explore the hypothesis that **given that an area has two sports teams in different sports, those teams will perform the same within their respective sports**. How I would like to see this explored is with a series of paired t-tests (so use [`ttest_rel`](https://docs.scipy.org/doc/scipy/reference/generated/scipy.stats.ttest_rel.html)) between all pairs of sports. Are there any sports where we can reject the null hypothesis? Again, average values where a sport has multiple teams in one region. Remember, you will only be including, for each sport, cities which have teams engaged in that sport, drop others as appropriate. This question is worth 20% of the grade for this assignment."
   ]
  },
  {
   "cell_type": "code",
   "execution_count": null,
   "metadata": {
    "deletable": false,
    "nbgrader": {
     "checksum": "6d78c961eb66f8d8c81f06d33ae8f393",
     "grade": false,
     "grade_id": "cell-92f25f44b8d1179f",
     "locked": false,
     "schema_version": 1,
     "solution": true
    }
   },
   "outputs": [],
   "source": [
    "import pandas as pd\n",
    "import numpy as np\n",
    "import scipy.stats as stats\n",
    "import re\n",
    "\n",
    "mlb_df=pd.read_csv(\"assets/mlb.csv\")\n",
    "nhl_df=pd.read_csv(\"assets/nhl.csv\")\n",
    "nba_df=pd.read_csv(\"assets/nba.csv\")\n",
    "nfl_df=pd.read_csv(\"assets/nfl.csv\")\n",
    "cities=pd.read_html(\"assets/wikipedia_data.html\")[1]\n",
    "cities=cities.iloc[:-1,[0,3,5,6,7,8]]\n",
    "\n",
    "def sports_team_performance():\n",
    "    # YOUR CODE HERE\n",
    "    raise NotImplementedError()\n",
    "    \n",
    "    # Note: p_values is a full dataframe, so df.loc[\"NFL\",\"NBA\"] should be the same as df.loc[\"NBA\",\"NFL\"] and\n",
    "    # df.loc[\"NFL\",\"NFL\"] should return np.nan\n",
    "    sports = ['NFL', 'NBA', 'NHL', 'MLB']\n",
    "    p_values = pd.DataFrame({k:np.nan for k in sports}, index=sports)\n",
    "    \n",
    "    assert abs(p_values.loc[\"NBA\", \"NHL\"] - 0.02) <= 1e-2, \"The NBA-NHL p-value should be around 0.02\"\n",
    "    assert abs(p_values.loc[\"MLB\", \"NFL\"] - 0.80) <= 1e-2, \"The MLB-NFL p-value should be around 0.80\"\n",
    "    return p_values"
   ]
  },
  {
   "cell_type": "code",
   "execution_count": null,
   "metadata": {
    "deletable": false,
    "editable": false,
    "nbgrader": {
     "checksum": "2a596ab421a45cc01168d10e8fbb8f89",
     "grade": true,
     "grade_id": "cell-fb4b9cb5ff4570a6",
     "locked": true,
     "points": 20,
     "schema_version": 1,
     "solution": false
    }
   },
   "outputs": [],
   "source": []
  }
 ],
 "metadata": {
  "coursera": {
   "schema_names": [
    "mooc_adswpy_1_v2_assignment4"
   ]
  },
  "kernelspec": {
   "display_name": "Python 3",
   "language": "python",
   "name": "python3"
  }
 },
 "nbformat": 4,
 "nbformat_minor": 4
}
